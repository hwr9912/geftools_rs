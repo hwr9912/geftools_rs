{
 "cells": [
  {
   "cell_type": "markdown",
   "id": "5c764c19",
   "metadata": {},
   "source": [
    "# 查看输出hdf5数据结构"
   ]
  },
  {
   "cell_type": "code",
   "execution_count": 3,
   "id": "842e2b32",
   "metadata": {},
   "outputs": [
    {
     "name": "stdout",
     "output_type": "stream",
     "text": [
      "\u001b[1m\u001b[32m   Compiling\u001b[0m gem2gef v0.1.0 (/Volumes/MacPassport/rust/geftools_rs)\n",
      "\u001b[K\u001b[0m\u001b[1m\u001b[33mwarning\u001b[0m\u001b[0m\u001b[1m: hard linking files in the incremental compilation cache failed. copying files instead. consider moving the cache directory to a file system which supports hard linking in session dir `/Volumes/MacPassport/rust/geftools_rs/target/debug/incremental/gem2gef-1v9d8lgwilpzg/s-hcbrzk2ht6-0k0dw5d-working`\u001b[0m\n",
      "\n",
      "\u001b[K\u001b[0m\u001b[1m\u001b[33mwarning\u001b[0m\u001b[0m\u001b[1m: unused import: `types::VarLenUnicode`\u001b[0m             \n",
      "\u001b[0m \u001b[0m\u001b[0m\u001b[1m\u001b[38;5;12m--> \u001b[0m\u001b[0msrc/bgef_writer.rs:3:12\u001b[0m\n",
      "\u001b[0m  \u001b[0m\u001b[0m\u001b[1m\u001b[38;5;12m|\u001b[0m\n",
      "\u001b[0m\u001b[1m\u001b[38;5;12m3\u001b[0m\u001b[0m \u001b[0m\u001b[0m\u001b[1m\u001b[38;5;12m|\u001b[0m\u001b[0m \u001b[0m\u001b[0muse hdf5::{types::VarLenUnicode, File as H5File, H5Type};\u001b[0m\n",
      "\u001b[0m  \u001b[0m\u001b[0m\u001b[1m\u001b[38;5;12m|\u001b[0m\u001b[0m            \u001b[0m\u001b[0m\u001b[1m\u001b[33m^^^^^^^^^^^^^^^^^^^^\u001b[0m\n",
      "\u001b[0m  \u001b[0m\u001b[0m\u001b[1m\u001b[38;5;12m|\u001b[0m\n",
      "\u001b[0m  \u001b[0m\u001b[0m\u001b[1m\u001b[38;5;12m= \u001b[0m\u001b[0m\u001b[1mnote\u001b[0m\u001b[0m: `#[warn(unused_imports)]` on by default\u001b[0m\n",
      "\n",
      "\u001b[K\u001b[0m\u001b[1m\u001b[33mwarning\u001b[0m\u001b[0m\u001b[1m: unused variable: `f`\u001b[0m: gem2gef(bin)                \n",
      "\u001b[0m  \u001b[0m\u001b[0m\u001b[1m\u001b[38;5;12m--> \u001b[0m\u001b[0msrc/bgef_writer.rs:34:13\u001b[0m\n",
      "\u001b[0m   \u001b[0m\u001b[0m\u001b[1m\u001b[38;5;12m|\u001b[0m\n",
      "\u001b[0m\u001b[1m\u001b[38;5;12m34\u001b[0m\u001b[0m \u001b[0m\u001b[0m\u001b[1m\u001b[38;5;12m|\u001b[0m\u001b[0m \u001b[0m\u001b[0m        let f = H5File::create(&self.output)?;\u001b[0m\n",
      "\u001b[0m   \u001b[0m\u001b[0m\u001b[1m\u001b[38;5;12m|\u001b[0m\u001b[0m             \u001b[0m\u001b[0m\u001b[1m\u001b[33m^\u001b[0m\u001b[0m \u001b[0m\u001b[0m\u001b[1m\u001b[33mhelp: if this is intentional, prefix it with an underscore: `_f`\u001b[0m\n",
      "\u001b[0m   \u001b[0m\u001b[0m\u001b[1m\u001b[38;5;12m|\u001b[0m\n",
      "\u001b[0m   \u001b[0m\u001b[0m\u001b[1m\u001b[38;5;12m= \u001b[0m\u001b[0m\u001b[1mnote\u001b[0m\u001b[0m: `#[warn(unused_variables)]` on by default\u001b[0m\n",
      "\n",
      "\u001b[0m\u001b[1m\u001b[33mwarning\u001b[0m\u001b[0m\u001b[1m: unused variable: `bin`\u001b[0m\n",
      "\u001b[0m  \u001b[0m\u001b[0m\u001b[1m\u001b[38;5;12m--> \u001b[0m\u001b[0msrc/bgef_writer.rs:30:9\u001b[0m\n",
      "\u001b[0m   \u001b[0m\u001b[0m\u001b[1m\u001b[38;5;12m|\u001b[0m\n",
      "\u001b[0m\u001b[1m\u001b[38;5;12m30\u001b[0m\u001b[0m \u001b[0m\u001b[0m\u001b[1m\u001b[38;5;12m|\u001b[0m\u001b[0m \u001b[0m\u001b[0m        bin: Vec<u16>,\u001b[0m\n",
      "\u001b[0m   \u001b[0m\u001b[0m\u001b[1m\u001b[38;5;12m|\u001b[0m\u001b[0m         \u001b[0m\u001b[0m\u001b[1m\u001b[33m^^^\u001b[0m\u001b[0m \u001b[0m\u001b[0m\u001b[1m\u001b[33mhelp: if this is intentional, prefix it with an underscore: `_bin`\u001b[0m\n",
      "\n",
      "\u001b[0m\u001b[1m\u001b[33mwarning\u001b[0m\u001b[0m\u001b[1m: unused variable: `resolution`\u001b[0m\n",
      "\u001b[0m  \u001b[0m\u001b[0m\u001b[1m\u001b[38;5;12m--> \u001b[0m\u001b[0msrc/bgef_writer.rs:31:9\u001b[0m\n",
      "\u001b[0m   \u001b[0m\u001b[0m\u001b[1m\u001b[38;5;12m|\u001b[0m\n",
      "\u001b[0m\u001b[1m\u001b[38;5;12m31\u001b[0m\u001b[0m \u001b[0m\u001b[0m\u001b[1m\u001b[38;5;12m|\u001b[0m\u001b[0m \u001b[0m\u001b[0m        resolution: u16,\u001b[0m\n",
      "\u001b[0m   \u001b[0m\u001b[0m\u001b[1m\u001b[38;5;12m|\u001b[0m\u001b[0m         \u001b[0m\u001b[0m\u001b[1m\u001b[33m^^^^^^^^^^\u001b[0m\u001b[0m \u001b[0m\u001b[0m\u001b[1m\u001b[33mhelp: if this is intentional, prefix it with an underscore: `_resolution`\u001b[0m\n",
      "\n",
      "\u001b[K\u001b[0m\u001b[1m\u001b[33mwarning\u001b[0m\u001b[0m\u001b[1m: struct `BgefWriter` is never constructed\u001b[0m          \n",
      "\u001b[0m  \u001b[0m\u001b[0m\u001b[1m\u001b[38;5;12m--> \u001b[0m\u001b[0msrc/bgef_writer.rs:14:8\u001b[0m\n",
      "\u001b[0m   \u001b[0m\u001b[0m\u001b[1m\u001b[38;5;12m|\u001b[0m\n",
      "\u001b[0m\u001b[1m\u001b[38;5;12m14\u001b[0m\u001b[0m \u001b[0m\u001b[0m\u001b[1m\u001b[38;5;12m|\u001b[0m\u001b[0m \u001b[0m\u001b[0mstruct BgefWriter {\u001b[0m\n",
      "\u001b[0m   \u001b[0m\u001b[0m\u001b[1m\u001b[38;5;12m|\u001b[0m\u001b[0m        \u001b[0m\u001b[0m\u001b[1m\u001b[33m^^^^^^^^^^\u001b[0m\n",
      "\u001b[0m   \u001b[0m\u001b[0m\u001b[1m\u001b[38;5;12m|\u001b[0m\n",
      "\u001b[0m   \u001b[0m\u001b[0m\u001b[1m\u001b[38;5;12m= \u001b[0m\u001b[0m\u001b[1mnote\u001b[0m\u001b[0m: `#[warn(dead_code)]` on by default\u001b[0m\n",
      "\n",
      "\u001b[K\u001b[0m\u001b[1m\u001b[33mwarning\u001b[0m\u001b[0m\u001b[1m: associated items `BgefWriter` and `write_bgef_whole_exp` are never used\u001b[0m\n",
      "\u001b[0m  \u001b[0m\u001b[0m\u001b[1m\u001b[38;5;12m--> \u001b[0m\u001b[0msrc/bgef_writer.rs:27:8\u001b[0m\n",
      "\u001b[0m   \u001b[0m\u001b[0m\u001b[1m\u001b[38;5;12m|\u001b[0m\n",
      "\u001b[0m\u001b[1m\u001b[38;5;12m26\u001b[0m\u001b[0m \u001b[0m\u001b[0m\u001b[1m\u001b[38;5;12m|\u001b[0m\u001b[0m \u001b[0m\u001b[0mimpl BgefWriter {\u001b[0m\n",
      "\u001b[0m   \u001b[0m\u001b[0m\u001b[1m\u001b[38;5;12m|\u001b[0m\u001b[0m \u001b[0m\u001b[0m\u001b[1m\u001b[38;5;12m---------------\u001b[0m\u001b[0m \u001b[0m\u001b[0m\u001b[1m\u001b[38;5;12massociated items in this implementation\u001b[0m\n",
      "\u001b[0m\u001b[1m\u001b[38;5;12m27\u001b[0m\u001b[0m \u001b[0m\u001b[0m\u001b[1m\u001b[38;5;12m|\u001b[0m\u001b[0m \u001b[0m\u001b[0m    fn BgefWriter(\u001b[0m\n",
      "\u001b[0m   \u001b[0m\u001b[0m\u001b[1m\u001b[38;5;12m|\u001b[0m\u001b[0m        \u001b[0m\u001b[0m\u001b[1m\u001b[33m^^^^^^^^^^\u001b[0m\n",
      "\u001b[0m\u001b[1m\u001b[38;5;12m...\u001b[0m\n",
      "\u001b[0m\u001b[1m\u001b[38;5;12m57\u001b[0m\u001b[0m \u001b[0m\u001b[0m\u001b[1m\u001b[38;5;12m|\u001b[0m\u001b[0m \u001b[0m\u001b[0m    fn write_bgef_whole_exp() {}\u001b[0m\n",
      "\u001b[0m   \u001b[0m\u001b[0m\u001b[1m\u001b[38;5;12m|\u001b[0m\u001b[0m        \u001b[0m\u001b[0m\u001b[1m\u001b[33m^^^^^^^^^^^^^^^^^^^^\u001b[0m\n",
      "\n",
      "\u001b[K\u001b[0m\u001b[1m\u001b[33mwarning\u001b[0m\u001b[0m\u001b[1m: method `BgefWriter` should have a snake case name\u001b[0m \n",
      "\u001b[0m  \u001b[0m\u001b[0m\u001b[1m\u001b[38;5;12m--> \u001b[0m\u001b[0msrc/bgef_writer.rs:27:8\u001b[0m\n",
      "\u001b[0m   \u001b[0m\u001b[0m\u001b[1m\u001b[38;5;12m|\u001b[0m\n",
      "\u001b[0m\u001b[1m\u001b[38;5;12m27\u001b[0m\u001b[0m \u001b[0m\u001b[0m\u001b[1m\u001b[38;5;12m|\u001b[0m\u001b[0m \u001b[0m\u001b[0m    fn BgefWriter(\u001b[0m\n",
      "\u001b[0m   \u001b[0m\u001b[0m\u001b[1m\u001b[38;5;12m|\u001b[0m\u001b[0m        \u001b[0m\u001b[0m\u001b[1m\u001b[33m^^^^^^^^^^\u001b[0m\u001b[0m \u001b[0m\u001b[0m\u001b[1m\u001b[33mhelp: convert the identifier to snake case: `bgef_writer`\u001b[0m\n",
      "\u001b[0m   \u001b[0m\u001b[0m\u001b[1m\u001b[38;5;12m|\u001b[0m\n",
      "\u001b[0m   \u001b[0m\u001b[0m\u001b[1m\u001b[38;5;12m= \u001b[0m\u001b[0m\u001b[1mnote\u001b[0m\u001b[0m: `#[warn(non_snake_case)]` on by default\u001b[0m\n",
      "\n",
      "\u001b[K\u001b[1m\u001b[33mwarning\u001b[0m\u001b[1m:\u001b[0m `gem2gef` (bin \"gem2gef\") generated 8 warnings (run `cargo fix --bin \"gem2gef\"` to apply 1 suggestion)\n",
      "\u001b[1m\u001b[32m    Finished\u001b[0m `dev` profile [unoptimized + debuginfo] target(s) in 3.20s\n",
      "\u001b[1m\u001b[32m     Running\u001b[0m `target/debug/gem2gef -i Y00855ND.tissue.gem.gz`\n",
      "[2025-10-24 16:45:17.223 +08:00] Header info:\n",
      "  BinType=Bin  BinSize=1\n",
      "  Omics=Transcriptomics  Chip=Y00855ND\n",
      "  Offset=(0, 0)  HasExon=true  HeaderLineIndex=8\n",
      "Processed   10000000 lines...\n",
      "Processed   20000000 lines...\n",
      "Processed   30000000 lines...\n",
      "Processed   40000000 lines...\n",
      "Processed   50000000 lines...\n",
      "Processed   60000000 lines...\n",
      "Processed   70000000 lines...\n",
      "Processed   80000000 lines...\n",
      "Processed   90000000 lines...\n",
      "Processed  100000000 lines...\n",
      "Processed  110000000 lines...\n",
      "Processed  120000000 lines...\n",
      "Processed all lines:  123196419 \n",
      "[2025-10-24 16:50:42.871 +08:00] /geneExp/bin1 info:\n",
      "  minX=2573  maxX=20074\n",
      "  minY=4823  maxY=21865\n",
      "  maxExp=19 resolution=500\n",
      "[2025-10-24 16:54:55.214 +08:00] /wholeExp/bin1 info:\n",
      "  number=69099850\n",
      "  minX=2573  lenX=17502\n",
      "  minY=4823  lenY=17043\n",
      "  maxMID=19  maxGene=48 resolution=48\n",
      "[2025-10-24 16:54:57.115 +08:00] /wholeExpExon/bin1 info:\n",
      "  maxExon=28\n",
      "wrote dummy.bgef!\n"
     ]
    }
   ],
   "source": [
    "# Y00855ND: 10m 6.5s\n",
    "!cargo run -- -i Y00855ND.tissue.gem.gz"
   ]
  },
  {
   "cell_type": "code",
   "execution_count": 5,
   "id": "25d8f05f",
   "metadata": {},
   "outputs": [
    {
     "data": {
      "text/plain": [
       "'/Volumes/MacPassport/rust/geftools_rs'"
      ]
     },
     "metadata": {},
     "output_type": "display_data"
    },
    {
     "name": "stdout",
     "output_type": "stream",
     "text": [
      "[Group] geneExp\n",
      "[Group] geneExp/bin1\n",
      "[Dataset] geneExp/bin1/exon  shape=(123192319,)  dtype=uint32\n",
      "[Dataset] geneExp/bin1/expression  shape=(123192319,)  dtype=[('x', '<i4'), ('y', '<i4'), ('count', '<u4')]\n",
      "[Dataset] geneExp/bin1/gene  shape=(43520,)  dtype=[('gene_id', 'O'), ('gene_name', 'O'), ('offset', '<u4'), ('count', '<u4')]\n",
      "[Group] stat\n",
      "[Dataset] stat/gene  shape=(3,)  dtype=[('gene_id', '<u4'), ('gene_name', '<u4'), ('mid_count', '<u4'), ('log10_mid', '<f4')]\n",
      "[Group] wholeExp\n",
      "[Dataset] wholeExp/bin1  shape=(17502, 17043)  dtype={'names': ['mid_count', 'gene_count'], 'formats': ['<u4', '<u2'], 'offsets': [0, 4], 'itemsize': 8}\n",
      "[Group] wholeExpExon\n",
      "[Dataset] wholeExpExon/bin1  shape=(17502, 17043)  dtype=uint32\n"
     ]
    }
   ],
   "source": [
    "import os\n",
    "import h5py\n",
    "display(os.getcwd())\n",
    "\n",
    "def print_structure(name, obj):\n",
    "    if isinstance(obj, h5py.Group):\n",
    "        print(f\"[Group] {name}\")\n",
    "    elif isinstance(obj, h5py.Dataset):\n",
    "        print(f\"[Dataset] {name}  shape={obj.shape}  dtype={obj.dtype}\")\n",
    "\n",
    "path = \"/Volumes/MacPassport/project/bioinformatics_project/MCAO20250929/data/test.bgef\"\n",
    "path = \"dummy.bgef\"\n",
    "with h5py.File(path, \"r\") as f:\n",
    "    f.visititems(print_structure)"
   ]
  },
  {
   "cell_type": "code",
   "execution_count": 6,
   "id": "ea56192d",
   "metadata": {},
   "outputs": [
    {
     "name": "stdout",
     "output_type": "stream",
     "text": [
      "Root attributes: ['lenX', 'lenY', 'maxGene', 'maxMID', 'minX', 'minY', 'number', 'resolution']\n",
      "lenX: 17502\n",
      "lenY: 17043\n",
      "maxGene: 48\n",
      "maxMID: 19\n",
      "minX: 2573\n",
      "minY: 4823\n",
      "number: 69099850\n",
      "resolution: 500\n"
     ]
    }
   ],
   "source": [
    "path = \"/Volumes/MacPassport/project/bioinformatics_project/MCAO20250929/data/test.bgef\"\n",
    "path = \"dummy.bgef\"\n",
    "with h5py.File(path, \"r\") as f:\n",
    "    # 打印所有根级属性的名称\n",
    "    print(\"Root attributes:\", list(f[\"/wholeExp/bin1\"].attrs.keys()))\n",
    "\n",
    "    # # 读取单个属性\n",
    "    # if \"Omics\" in f.attrs:\n",
    "    #     print(\"Omics =\", f.attrs[\"Omics\"].decode() if isinstance(f.attrs[\"Omics\"], bytes) else f.attrs[\"Omics\"])\n",
    "\n",
    "    # 或者一次性读取所有键值对\n",
    "    for k, v in f[\"/wholeExp/bin1\"].attrs.items():\n",
    "        # 一些属性是 bytes，需要手动 decode\n",
    "        if isinstance(v, bytes):\n",
    "            v = v.decode()\n",
    "        print(f\"{k}: {v}\")"
   ]
  },
  {
   "cell_type": "markdown",
   "id": "8873769f",
   "metadata": {},
   "source": [
    "Y00855ND.tissue.gem.gz文件总行数是123196419"
   ]
  },
  {
   "cell_type": "code",
   "execution_count": 9,
   "id": "d90eaf28",
   "metadata": {},
   "outputs": [
    {
     "name": "stdout",
     "output_type": "stream",
     "text": [
      " 123196419\n"
     ]
    }
   ],
   "source": [
    "!gzcat Y00855ND.tissue.gem.gz | wc -l "
   ]
  },
  {
   "cell_type": "code",
   "execution_count": 9,
   "id": "f177f8dd",
   "metadata": {},
   "outputs": [
    {
     "name": "stdout",
     "output_type": "stream",
     "text": [
      ">>>Attribute:\n",
      "maxExon: 28, uint32\n",
      ">>>Dataset:\n",
      "(17502, 17043) [[0 0 0 ... 0 0 0]\n",
      " [0 0 0 ... 0 0 0]\n",
      " [0 0 0 ... 0 0 0]\n",
      " ...\n",
      " [0 0 0 ... 0 0 0]\n",
      " [0 0 0 ... 0 0 0]\n",
      " [0 0 0 ... 0 0 0]]\n"
     ]
    }
   ],
   "source": [
    "# 代码示例\n",
    "import h5py\n",
    "import numpy as np\n",
    "path = \"/Volumes/MacPassport/project/bioinformatics_project/MCAO20250929/data/test.bgef\"\n",
    "path = \"dummy.bgef\"\n",
    "with h5py.File(path, \"r\") as f:\n",
    "    # h5path = \"/geneExp/bin1/expression\"\n",
    "    h5path = \"/wholeExpExon/bin1\"\n",
    "\n",
    "    # 输出属性\n",
    "    print(\">>>Attribute:\")\n",
    "    for k, v in f[h5path].attrs.items():\n",
    "        # 一些属性是 bytes，需要手动 decode\n",
    "        if isinstance(v, bytes):\n",
    "            v = v.decode()\n",
    "        print(f\"{k}: {v}, {v.dtype}\")\n",
    "    \n",
    "    # 数据矩阵\n",
    "    print(\">>>Dataset:\")\n",
    "    expr = np.array(f[h5path]) # 替换这里f的键值即可\n",
    "    print(expr.shape, expr)"
   ]
  },
  {
   "cell_type": "code",
   "execution_count": null,
   "id": "38787eb8",
   "metadata": {},
   "outputs": [],
   "source": []
  }
 ],
 "metadata": {
  "kernelspec": {
   "display_name": "bioinfo",
   "language": "python",
   "name": "python3"
  },
  "language_info": {
   "codemirror_mode": {
    "name": "ipython",
    "version": 3
   },
   "file_extension": ".py",
   "mimetype": "text/x-python",
   "name": "python",
   "nbconvert_exporter": "python",
   "pygments_lexer": "ipython3",
   "version": "3.12.2"
  }
 },
 "nbformat": 4,
 "nbformat_minor": 5
}
